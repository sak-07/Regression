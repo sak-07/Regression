{
 "cells": [
  {
   "cell_type": "code",
   "execution_count": 2,
   "id": "a2857ecb",
   "metadata": {},
   "outputs": [
    {
     "name": "stdout",
     "output_type": "stream",
     "text": [
      "Accuracy: 1.0\n"
     ]
    }
   ],
   "source": [
    "from sklearn.metrics import accuracy_score\n",
    "from sklearn.datasets import load_iris\n",
    "from sklearn.model_selection import train_test_split\n",
    "from sklearn.linear_model import LogisticRegression\n",
    "  \n",
    "# Load the dataset\n",
    "iris = load_iris()\n",
    "  \n",
    "# Split the dataset into features and target variable\n",
    "X = iris.data\n",
    "y = iris.target\n",
    "  \n",
    "# Split the data into training and testing sets\n",
    "X_train, X_test,\\\n",
    " y_train, y_test = train_test_split(X, y,\n",
    "                                    test_size=0.3,\n",
    "                                    random_state=42)\n",
    "  \n",
    "# Create an instance of the logistic regression model\n",
    "lr = LogisticRegression()\n",
    "  \n",
    "# Fit the model to the training data\n",
    "lr.fit(X_train, y_train)\n",
    "  \n",
    "# Make predictions on the testing data\n",
    "y_pred = lr.predict(X_test)\n",
    "  \n",
    "# Calculate the accuracy of the model\n",
    "accuracy = accuracy_score(y_test, y_pred)\n",
    "print(f\"Accuracy: {accuracy}\")"
   ]
  }
 ],
 "metadata": {
  "kernelspec": {
   "display_name": "Python 3 (ipykernel)",
   "language": "python",
   "name": "python3"
  },
  "language_info": {
   "codemirror_mode": {
    "name": "ipython",
    "version": 3
   },
   "file_extension": ".py",
   "mimetype": "text/x-python",
   "name": "python",
   "nbconvert_exporter": "python",
   "pygments_lexer": "ipython3",
   "version": "3.11.3"
  }
 },
 "nbformat": 4,
 "nbformat_minor": 5
}
